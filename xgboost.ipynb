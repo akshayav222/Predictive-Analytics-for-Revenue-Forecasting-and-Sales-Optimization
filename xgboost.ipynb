{
 "cells": [
  {
   "cell_type": "markdown",
   "metadata": {},
   "source": [
    "XGBOOST"
   ]
  },
  {
   "cell_type": "code",
   "execution_count": 1,
   "metadata": {},
   "outputs": [],
   "source": [
    "import xgboost as xgb\n",
    "from sklearn.model_selection import train_test_split\n",
    "from sklearn.metrics import mean_absolute_error, mean_squared_error, r2_score\n",
    "import pandas as pd\n",
    "import numpy as np\n",
    "import matplotlib.pyplot as plt\n"
   ]
  },
  {
   "cell_type": "code",
   "execution_count": 2,
   "metadata": {},
   "outputs": [],
   "source": [
    "file_path = \"C:/Users/chimc/Desktop/Thomsun Infocare/capricorn UAT data/data2024.csv\"\n",
    "df = pd.read_csv(file_path,  encoding='ISO-8859-1')"
   ]
  },
  {
   "cell_type": "code",
   "execution_count": 3,
   "metadata": {},
   "outputs": [],
   "source": [
    "# Convert invoice date to datetime format\n",
    "df['invoicedate'] = pd.to_datetime(df['invoicedate'])\n",
    "\n",
    "# Extract date-based features\n",
    "df['year'] = df['invoicedate'].dt.year\n",
    "df['month'] = df['invoicedate'].dt.month\n",
    "df['day'] = df['invoicedate'].dt.day\n",
    "df['weekday'] = df['invoicedate'].dt.weekday"
   ]
  },
  {
   "cell_type": "code",
   "execution_count": 4,
   "metadata": {},
   "outputs": [],
   "source": [
    "# Define features and target variable\n",
    "X = df[['year', 'month', 'day', 'weekday', 'qty', 'avgunitprice', 'totaldiscount']]\n",
    "y = df['salesamount']\n",
    "\n",
    "# Split data into training and testing sets\n",
    "X_train, X_test, y_train, y_test = train_test_split(X, y, test_size=0.2, random_state=42)"
   ]
  },
  {
   "cell_type": "code",
   "execution_count": 5,
   "metadata": {},
   "outputs": [],
   "source": [
    "# Initialize XGBoost Regressor\n",
    "xgb_model = xgb.XGBRegressor(objective='reg:squarederror', \n",
    "                             n_estimators=100, \n",
    "                             learning_rate=0.1, \n",
    "                             max_depth=6, \n",
    "                             random_state=42)\n",
    "\n",
    "# Train the model\n",
    "xgb_model.fit(X_train, y_train)\n",
    "\n",
    "# Make predictions\n",
    "y_pred = xgb_model.predict(X_test)\n"
   ]
  },
  {
   "cell_type": "code",
   "execution_count": 6,
   "metadata": {},
   "outputs": [
    {
     "name": "stdout",
     "output_type": "stream",
     "text": [
      "Mean Absolute Error (MAE): 0.18\n",
      "Mean Squared Error (MSE): 0.54\n",
      "Root Mean Squared Error (RMSE): 0.73\n",
      "R² Score: 1.00\n",
      "Relative Error: 1.47%\n",
      "Pseudo-Accuracy (100 - Relative Error): 98.53%\n"
     ]
    }
   ],
   "source": [
    "mae = mean_absolute_error(y_test, y_pred)\n",
    "mse = mean_squared_error(y_test, y_pred)\n",
    "rmse = np.sqrt(mse)\n",
    "r2 = r2_score(y_test, y_pred)\n",
    "relative_error = (mae / np.mean(y_test)) * 100\n",
    "pseudo_accuracy = 100 - relative_error\n",
    "\n",
    "print(f\"Mean Absolute Error (MAE): {mae:.2f}\")\n",
    "print(f\"Mean Squared Error (MSE): {mse:.2f}\")\n",
    "print(f\"Root Mean Squared Error (RMSE): {rmse:.2f}\")\n",
    "print(f\"R² Score: {r2:.2f}\")\n",
    "print(f\"Relative Error: {relative_error:.2f}%\")\n",
    "print(f\"Pseudo-Accuracy (100 - Relative Error): {pseudo_accuracy:.2f}%\")"
   ]
  },
  {
   "cell_type": "markdown",
   "metadata": {},
   "source": [
    "XGBOOST WITH LAGS"
   ]
  },
  {
   "cell_type": "code",
   "execution_count": 16,
   "metadata": {},
   "outputs": [],
   "source": [
    "# Sort data by date\n",
    "df = df.sort_values(by=\"invoicedate\")\n",
    "\n",
    "# Create lag features\n",
    "df['sales_lag_1'] = df['salesamount'].shift(1)\n",
    "df['sales_lag_7'] = df['salesamount'].shift(7)\n",
    "df['sales_lag_30'] = df['salesamount'].shift(30)\n",
    "\n",
    "# Fill missing values with 0 (optional: you can use mean or forward-fill)\n",
    "df.fillna(0, inplace=True)\n"
   ]
  },
  {
   "cell_type": "code",
   "execution_count": 17,
   "metadata": {},
   "outputs": [],
   "source": [
    "# One-hot encode the month column\n",
    "df = pd.get_dummies(df, columns=['month'], prefix='month')"
   ]
  },
  {
   "cell_type": "code",
   "execution_count": 18,
   "metadata": {},
   "outputs": [],
   "source": [
    "# Define features and target\n",
    "X = df[['year', 'day', 'weekday', 'qty', 'avgunitprice', 'totaldiscount',\n",
    "        'sales_lag_1', 'sales_lag_7', 'sales_lag_30'] + \n",
    "       [col for col in df.columns if col.startswith('month_')]]  # Include month dummies\n",
    "\n",
    "y = df['salesamount']\n",
    "\n",
    "# Split into train and test sets\n",
    "X_train, X_test, y_train, y_test = train_test_split(X, y, test_size=0.2, random_state=42)\n"
   ]
  },
  {
   "cell_type": "code",
   "execution_count": 19,
   "metadata": {},
   "outputs": [],
   "source": [
    "# Initialize XGBoost Regressor\n",
    "xgb_model = xgb.XGBRegressor(objective='reg:squarederror', \n",
    "                             n_estimators=100, \n",
    "                             learning_rate=0.1, \n",
    "                             max_depth=6, \n",
    "                             random_state=42)\n",
    "\n",
    "# Train the model\n",
    "xgb_model.fit(X_train, y_train)\n",
    "\n",
    "# Make predictions\n",
    "y_pred = xgb_model.predict(X_test)\n"
   ]
  },
  {
   "cell_type": "code",
   "execution_count": 20,
   "metadata": {},
   "outputs": [
    {
     "name": "stdout",
     "output_type": "stream",
     "text": [
      "Mean Absolute Error (MAE): 0.17\n",
      "Mean Squared Error (MSE): 0.85\n",
      "Root Mean Squared Error (RMSE): 0.92\n",
      "R² Score: 1.00\n",
      "Relative Error: 1.37%\n",
      "Pseudo-Accuracy (100 - Relative Error): 98.63%\n"
     ]
    }
   ],
   "source": [
    "mae = mean_absolute_error(y_test, y_pred)\n",
    "mse = mean_squared_error(y_test, y_pred)\n",
    "rmse = np.sqrt(mse)\n",
    "r2 = r2_score(y_test, y_pred)\n",
    "relative_error = (mae / np.mean(y_test)) * 100\n",
    "pseudo_accuracy = 100 - relative_error\n",
    "\n",
    "print(f\"Mean Absolute Error (MAE): {mae:.2f}\")\n",
    "print(f\"Mean Squared Error (MSE): {mse:.2f}\")\n",
    "print(f\"Root Mean Squared Error (RMSE): {rmse:.2f}\")\n",
    "print(f\"R² Score: {r2:.2f}\")\n",
    "print(f\"Relative Error: {relative_error:.2f}%\")\n",
    "print(f\"Pseudo-Accuracy (100 - Relative Error): {pseudo_accuracy:.2f}%\")"
   ]
  },
  {
   "cell_type": "code",
   "execution_count": 21,
   "metadata": {},
   "outputs": [
    {
     "data": {
      "image/png": "[encoded data removed]",
      "text/plain": [
       "<Figure size 1000x500 with 1 Axes>"
      ]
     },
     "metadata": {},
     "output_type": "display_data"
    }
   ],
   "source": [
    "plt.figure(figsize=(10,5))\n",
    "plt.scatter(y_test, y_pred, alpha=0.5)\n",
    "plt.plot([min(y_test), max(y_test)], [min(y_test), max(y_test)], color='red', linestyle='dashed')\n",
    "plt.xlabel(\"Actual Sales Amount\")\n",
    "plt.ylabel(\"Predicted Sales Amount\")\n",
    "plt.title(\"Random Forest: Actual vs Predicted Sales\")\n",
    "plt.show()\n"
   ]
  },
  {
   "cell_type": "markdown",
   "metadata": {},
   "source": [
    "HYPERPARAMETER TUNING\n",
    "\n",
    "●-n_estimators: Number of boosting rounds (100-500)\n",
    "\n",
    "●-max_depth: Depth of each tree (3-10)\n",
    "\n",
    "●-learning_rate: Shrinks weights to prevent overfitting (0.01-0.3)\n",
    "\n",
    "●-subsample: Percentage of data used per tree (0.5-1.0)\n",
    "\n",
    "●-colsample_bytree: Percentage of features used per tree (0.5-1.0)"
   ]
  },
  {
   "cell_type": "code",
   "execution_count": null,
   "metadata": {},
   "outputs": [
    {
     "name": "stdout",
     "output_type": "stream",
     "text": [
      "Fitting 3 folds for each of 20 candidates, totalling 60 fits\n",
      "Best Parameters: {'subsample': 0.7, 'n_estimators': 500, 'max_depth': 5, 'learning_rate': 0.1, 'colsample_bytree': 0.7}\n"
     ]
    }
   ],
   "source": [
    "from sklearn.model_selection import RandomizedSearchCV\n",
    "\n",
    "# Define hyperparameter grid\n",
    "param_grid = {\n",
    "    'n_estimators': [100, 200, 300, 500],\n",
    "    'max_depth': [3, 5, 7, 10],\n",
    "    'learning_rate': [0.01, 0.05, 0.1, 0.2, 0.3],\n",
    "    'subsample': [0.5, 0.7, 0.9, 1.0],\n",
    "    'colsample_bytree': [0.5, 0.7, 0.9, 1.0]\n",
    "}\n",
    "\n",
    "# Initialize XGBoost model\n",
    "xgb_model = xgb.XGBRegressor(objective='reg:squarederror', random_state=42)\n",
    "\n",
    "# Use RandomizedSearchCV for faster tuning\n",
    "random_search = RandomizedSearchCV(xgb_model, param_distributions=param_grid, \n",
    "                                   n_iter=20, scoring='neg_mean_squared_error', \n",
    "                                   cv=3, verbose=2, n_jobs=-1, random_state=42)\n",
    "\n",
    "# Train on the dataset\n",
    "random_search.fit(X_train, y_train)\n",
    "\n",
    "# Best parameters\n",
    "best_params = random_search.best_params_\n",
    "print(\"Best Parameters:\", best_params)\n"
   ]
  },
  {
   "cell_type": "code",
   "execution_count": 23,
   "metadata": {},
   "outputs": [],
   "source": [
    "# Get best parameters\n",
    "\n",
    "# Train final model with best params\n",
    "xgb_best = xgb.XGBRegressor(\n",
    "    subsample=0.7,\n",
    "    n_estimators=500,\n",
    "    max_depth=5,\n",
    "    learning_rate=0.1,\n",
    "    colsample_bytree=0.7,\n",
    "    objective='reg:squarederror',\n",
    "    random_state=42\n",
    ")\n",
    "xgb_best.fit(X_train, y_train)\n",
    "\n",
    "# Make predictions\n",
    "y_pred = xgb_best.predict(X_test)\n"
   ]
  },
  {
   "cell_type": "code",
   "execution_count": 24,
   "metadata": {},
   "outputs": [
    {
     "name": "stdout",
     "output_type": "stream",
     "text": [
      "Mean Absolute Error (MAE): 0.18\n",
      "Mean Squared Error (MSE): 0.84\n",
      "Root Mean Squared Error (RMSE): 0.92\n",
      "R² Score: 1.00\n",
      "Relative Error: 1.44%\n",
      "Pseudo-Accuracy (100 - Relative Error): 98.56%\n"
     ]
    }
   ],
   "source": [
    "mae = mean_absolute_error(y_test, y_pred)\n",
    "mse = mean_squared_error(y_test, y_pred)\n",
    "rmse = np.sqrt(mse)\n",
    "r2 = r2_score(y_test, y_pred)\n",
    "relative_error = (mae / np.mean(y_test)) * 100\n",
    "pseudo_accuracy = 100 - relative_error\n",
    "\n",
    "print(f\"Mean Absolute Error (MAE): {mae:.2f}\")\n",
    "print(f\"Mean Squared Error (MSE): {mse:.2f}\")\n",
    "print(f\"Root Mean Squared Error (RMSE): {rmse:.2f}\")\n",
    "print(f\"R² Score: {r2:.2f}\")\n",
    "print(f\"Relative Error: {relative_error:.2f}%\")\n",
    "print(f\"Pseudo-Accuracy (100 - Relative Error): {pseudo_accuracy:.2f}%\")"
   ]
  },
  {
   "cell_type": "markdown",
   "metadata": {},
   "source": [
    "●-Reducing max_depth or subsample prevents overfitting to extreme values, lowering large squared errors but potentially making the model less precise for some points, increasing absolute errors.\n",
    "\n",
    "●-A smaller learning_rate with more n_estimators (500) might generalize better, reducing outlier errors but slightly shifting predictions away from exact fits, raising MAE.\n",
    "\n",
    "●-XGBoost optimized for reg:squarederror (MSE-based), not MAE. If you tuned hyperparameters using MSE as the evaluation metric in random_search, the resulting best_params_ prioritize reducing squared errors, not absolute errors.\n",
    "\n",
    "●-But since the model is already performing near perfectly, hyperparameter tuning doesnt have much difference to make."
   ]
  },
  {
   "cell_type": "code",
   "execution_count": null,
   "metadata": {},
   "outputs": [],
   "source": []
  },
  {
   "cell_type": "markdown",
   "metadata": {},
   "source": []
  }
 ],
 "metadata": {
  "kernelspec": {
   "display_name": "Python 3",
   "language": "python",
   "name": "python3"
  },
  "language_info": {
   "codemirror_mode": {
    "name": "ipython",
    "version": 3
   },
   "file_extension": ".py",
   "mimetype": "text/x-python",
   "name": "python",
   "nbconvert_exporter": "python",
   "pygments_lexer": "ipython3",
   "version": "3.12.8"
  }
 },
 "nbformat": 4,
 "nbformat_minor": 2
}
